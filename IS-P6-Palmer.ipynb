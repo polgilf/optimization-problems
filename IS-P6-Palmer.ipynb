{
 "cells": [
  {
   "cell_type": "markdown",
   "metadata": {},
   "source": [
    "## Problem 6 - Industrial scheduling\n",
    "\n",
    "#### Loading the data"
   ]
  },
  {
   "cell_type": "code",
   "execution_count": null,
   "metadata": {},
   "outputs": [],
   "source": [
    "import pandas as pd\n",
    "import numpy as np\n",
    "\n",
    "proces_time = {'A1':{'TTC':6,'TTL':2,'C':6,'P': 4,'MM':5},\n",
    "               'A2':{'TTC':10,'TTL':8,'C':4,'P':2,'MM':3},\n",
    "               'A3':{'TTC':4,'TTL':3,'C':5,'P':7,'MM':4}}\n",
    "\n",
    "# \n",
    "M = len(proces_time.keys()) # M = 3\n",
    "N = len(proces_time['A1'].keys()) # N = 5\n",
    "\n",
    "machine_names = [key for key in proces_time.keys()] # ['A1', 'A2', 'A3']\n",
    "job_names = [key for key in proces_time['A1'].keys()] # ['TTC', 'TTL', 'C', 'P', 'MM']\n",
    "\n",
    "# Ranges where indexes are defined\n",
    "jobs = range(1,N+1)\n",
    "machines = range(1,M+1)\n",
    "\n",
    "# convert data to dictionary {(i,j): value}   (i=machine, j=job)\n",
    "p = {(i,j): proces_time[machine_names[i-1]][job_names[j-1]] for j in jobs for i in machines}\n",
    "\n",
    "# Dataframes\n",
    "proces_time_df = pd.DataFrame(proces_time).T\n",
    "p_df = pd.DataFrame(p.values(), index=pd.MultiIndex.from_tuples(p.keys())).unstack()"
   ]
  },
  {
   "cell_type": "code",
   "execution_count": 40,
   "metadata": {},
   "outputs": [
    {
     "data": {
      "text/html": [
       "<div>\n",
       "<style scoped>\n",
       "    .dataframe tbody tr th:only-of-type {\n",
       "        vertical-align: middle;\n",
       "    }\n",
       "\n",
       "    .dataframe tbody tr th {\n",
       "        vertical-align: top;\n",
       "    }\n",
       "\n",
       "    .dataframe thead th {\n",
       "        text-align: right;\n",
       "    }\n",
       "</style>\n",
       "<table border=\"1\" class=\"dataframe\">\n",
       "  <thead>\n",
       "    <tr style=\"text-align: right;\">\n",
       "      <th></th>\n",
       "      <th>TTC</th>\n",
       "      <th>TTL</th>\n",
       "      <th>C</th>\n",
       "      <th>P</th>\n",
       "      <th>MM</th>\n",
       "    </tr>\n",
       "  </thead>\n",
       "  <tbody>\n",
       "    <tr>\n",
       "      <th>A1</th>\n",
       "      <td>6</td>\n",
       "      <td>2</td>\n",
       "      <td>6</td>\n",
       "      <td>4</td>\n",
       "      <td>5</td>\n",
       "    </tr>\n",
       "    <tr>\n",
       "      <th>A2</th>\n",
       "      <td>10</td>\n",
       "      <td>8</td>\n",
       "      <td>4</td>\n",
       "      <td>2</td>\n",
       "      <td>3</td>\n",
       "    </tr>\n",
       "    <tr>\n",
       "      <th>A3</th>\n",
       "      <td>4</td>\n",
       "      <td>3</td>\n",
       "      <td>5</td>\n",
       "      <td>7</td>\n",
       "      <td>4</td>\n",
       "    </tr>\n",
       "  </tbody>\n",
       "</table>\n",
       "</div>"
      ],
      "text/plain": [
       "    TTC  TTL  C  P  MM\n",
       "A1    6    2  6  4   5\n",
       "A2   10    8  4  2   3\n",
       "A3    4    3  5  7   4"
      ]
     },
     "metadata": {},
     "output_type": "display_data"
    }
   ],
   "source": [
    "display(proces_time_df)"
   ]
  },
  {
   "cell_type": "code",
   "execution_count": 46,
   "metadata": {},
   "outputs": [
    {
     "data": {
      "text/html": [
       "<div>\n",
       "<style scoped>\n",
       "    .dataframe tbody tr th:only-of-type {\n",
       "        vertical-align: middle;\n",
       "    }\n",
       "\n",
       "    .dataframe tbody tr th {\n",
       "        vertical-align: top;\n",
       "    }\n",
       "\n",
       "    .dataframe thead tr th {\n",
       "        text-align: left;\n",
       "    }\n",
       "</style>\n",
       "<table border=\"1\" class=\"dataframe\">\n",
       "  <thead>\n",
       "    <tr>\n",
       "      <th></th>\n",
       "      <th colspan=\"5\" halign=\"left\">0</th>\n",
       "    </tr>\n",
       "    <tr>\n",
       "      <th></th>\n",
       "      <th>1</th>\n",
       "      <th>2</th>\n",
       "      <th>3</th>\n",
       "      <th>4</th>\n",
       "      <th>5</th>\n",
       "    </tr>\n",
       "  </thead>\n",
       "  <tbody>\n",
       "    <tr>\n",
       "      <th>1</th>\n",
       "      <td>6</td>\n",
       "      <td>2</td>\n",
       "      <td>6</td>\n",
       "      <td>4</td>\n",
       "      <td>5</td>\n",
       "    </tr>\n",
       "    <tr>\n",
       "      <th>2</th>\n",
       "      <td>10</td>\n",
       "      <td>8</td>\n",
       "      <td>4</td>\n",
       "      <td>2</td>\n",
       "      <td>3</td>\n",
       "    </tr>\n",
       "    <tr>\n",
       "      <th>3</th>\n",
       "      <td>4</td>\n",
       "      <td>3</td>\n",
       "      <td>5</td>\n",
       "      <td>7</td>\n",
       "      <td>4</td>\n",
       "    </tr>\n",
       "  </tbody>\n",
       "</table>\n",
       "</div>"
      ],
      "text/plain": [
       "    0            \n",
       "    1  2  3  4  5\n",
       "1   6  2  6  4  5\n",
       "2  10  8  4  2  3\n",
       "3   4  3  5  7  4"
      ]
     },
     "metadata": {},
     "output_type": "display_data"
    }
   ],
   "source": [
    "display(p_df)"
   ]
  },
  {
   "cell_type": "markdown",
   "metadata": {},
   "source": [
    "### Computing bounds\n"
   ]
  },
  {
   "cell_type": "code",
   "execution_count": 41,
   "metadata": {},
   "outputs": [
    {
     "name": "stdout",
     "output_type": "stream",
     "text": [
      "k1: 30 k2: 33 k3: 29 K: 33\n"
     ]
    }
   ],
   "source": [
    "# Computing bounds\n",
    "# k1 = sum of all job's processing times in machine 1 + minimum of all job's processing times in machine 2+3\n",
    "k1 = sum([p[1,j] for j in jobs]) + min([p[2,j] + p[3,j] for j in jobs])\n",
    "\n",
    "# k2 = sum of all job's processing times in machine 2 + minimum of all possible combinations of job's processing times in machine 1+3 except sum for same job\n",
    "k2 = sum([p[2,j] for j in jobs]) + min([p[1,j] + p[3,k] for j in jobs for k in jobs if k!=j])\n",
    "\n",
    "# k3 = sum of all job's processing times in machine 3 + minimum of all job's processing times in machine 1+2\n",
    "k3 = sum([p[3,j] for j in jobs]) + min([p[1,j] + p[2,j] for j in jobs])\n",
    "\n",
    "K = max(k1,k2,k3)\n",
    "\n",
    "print('k1:', k1, 'k2:', k2, 'k3:', k3, 'K:', K)"
   ]
  },
  {
   "cell_type": "markdown",
   "metadata": {},
   "source": [
    "### Palmer"
   ]
  },
  {
   "cell_type": "code",
   "execution_count": 57,
   "metadata": {},
   "outputs": [
    {
     "data": {
      "text/html": [
       "<div>\n",
       "<style scoped>\n",
       "    .dataframe tbody tr th:only-of-type {\n",
       "        vertical-align: middle;\n",
       "    }\n",
       "\n",
       "    .dataframe tbody tr th {\n",
       "        vertical-align: top;\n",
       "    }\n",
       "\n",
       "    .dataframe thead th {\n",
       "        text-align: right;\n",
       "    }\n",
       "</style>\n",
       "<table border=\"1\" class=\"dataframe\">\n",
       "  <thead>\n",
       "    <tr style=\"text-align: right;\">\n",
       "      <th></th>\n",
       "      <th>1</th>\n",
       "      <th>2</th>\n",
       "      <th>3</th>\n",
       "      <th>4</th>\n",
       "      <th>5</th>\n",
       "    </tr>\n",
       "  </thead>\n",
       "  <tbody>\n",
       "    <tr>\n",
       "      <th>1</th>\n",
       "      <td>22</td>\n",
       "      <td>12</td>\n",
       "      <td>16</td>\n",
       "      <td>10</td>\n",
       "      <td>13</td>\n",
       "    </tr>\n",
       "    <tr>\n",
       "      <th>2</th>\n",
       "      <td>18</td>\n",
       "      <td>14</td>\n",
       "      <td>14</td>\n",
       "      <td>16</td>\n",
       "      <td>11</td>\n",
       "    </tr>\n",
       "    <tr>\n",
       "      <th>3</th>\n",
       "      <td>4</td>\n",
       "      <td>-2</td>\n",
       "      <td>2</td>\n",
       "      <td>-6</td>\n",
       "      <td>2</td>\n",
       "    </tr>\n",
       "  </tbody>\n",
       "</table>\n",
       "</div>"
      ],
      "text/plain": [
       "    1   2   3   4   5\n",
       "1  22  12  16  10  13\n",
       "2  18  14  14  16  11\n",
       "3   4  -2   2  -6   2"
      ]
     },
     "metadata": {},
     "output_type": "display_data"
    }
   ],
   "source": [
    "# Compute virtual machine processing times\n",
    "# S_1,j = sum([p[i,j]*(M-1) for i in machines]) for each job j\n",
    "# S_2,j = sum([p[i,j]*(i-1) for i in machines])\n",
    "# S_3,j = S_1,j - S_2,j\n",
    "\n",
    "S = {1: {j: sum([p[i,j]*(M-i) for i in machines]) for j in jobs},\n",
    "     2: {j: sum([p[i,j]*(i-1) for i in machines]) for j in jobs}}\n",
    "S[3] = {j: S[1][j] - S[2][j] for j in jobs}\n",
    "\n",
    "S_df = pd.DataFrame(S).T\n",
    "display(S_df)"
   ]
  },
  {
   "cell_type": "code",
   "execution_count": 83,
   "metadata": {},
   "outputs": [
    {
     "name": "stdout",
     "output_type": "stream",
     "text": [
      "Sorted jobs: [4, 2, 3, 5, 1]\n",
      "Sorted job names: ['P', 'TTL', 'C', 'MM', 'TTC']\n",
      "C_max: 37\n"
     ]
    },
    {
     "data": {
      "text/html": [
       "<div>\n",
       "<style scoped>\n",
       "    .dataframe tbody tr th:only-of-type {\n",
       "        vertical-align: middle;\n",
       "    }\n",
       "\n",
       "    .dataframe tbody tr th {\n",
       "        vertical-align: top;\n",
       "    }\n",
       "\n",
       "    .dataframe thead th {\n",
       "        text-align: right;\n",
       "    }\n",
       "</style>\n",
       "<table border=\"1\" class=\"dataframe\">\n",
       "  <thead>\n",
       "    <tr style=\"text-align: right;\">\n",
       "      <th></th>\n",
       "      <th>P</th>\n",
       "      <th>TTL</th>\n",
       "      <th>C</th>\n",
       "      <th>MM</th>\n",
       "      <th>TTC</th>\n",
       "    </tr>\n",
       "  </thead>\n",
       "  <tbody>\n",
       "    <tr>\n",
       "      <th>1</th>\n",
       "      <td>4</td>\n",
       "      <td>6</td>\n",
       "      <td>12</td>\n",
       "      <td>17</td>\n",
       "      <td>23</td>\n",
       "    </tr>\n",
       "    <tr>\n",
       "      <th>2</th>\n",
       "      <td>6</td>\n",
       "      <td>14</td>\n",
       "      <td>18</td>\n",
       "      <td>21</td>\n",
       "      <td>33</td>\n",
       "    </tr>\n",
       "    <tr>\n",
       "      <th>3</th>\n",
       "      <td>13</td>\n",
       "      <td>17</td>\n",
       "      <td>23</td>\n",
       "      <td>27</td>\n",
       "      <td>37</td>\n",
       "    </tr>\n",
       "  </tbody>\n",
       "</table>\n",
       "</div>"
      ],
      "text/plain": [
       "    P  TTL   C  MM  TTC\n",
       "1   4    6  12  17   23\n",
       "2   6   14  18  21   33\n",
       "3  13   17  23  27   37"
      ]
     },
     "metadata": {},
     "output_type": "display_data"
    }
   ],
   "source": [
    "# Sorting jobs by increasing order of S_3,j\n",
    "sorted_jobs = sorted(jobs, key=lambda j: S[3][j])\n",
    "\n",
    "print('Sorted jobs:', sorted_jobs)\n",
    "\n",
    "sorted_jobs_names = [job_names[j-1] for j in sorted_jobs]\n",
    "# Print sorted jobs corresponding to jobnames\n",
    "print('Sorted job names:', sorted_jobs_names)\n",
    "\n",
    "# Compute Cmax\n",
    "C = {}\n",
    "for i in machines:\n",
    "    for k in jobs:\n",
    "        j = sorted_jobs[k-1]\n",
    "        if i == 1 and k == 1:\n",
    "            C[i,k] = p[i,j]\n",
    "        elif i > 1 and k == 1:\n",
    "            C[i,k] = C[i-1,k] + p[i,j]\n",
    "        elif i == 1 and k > 1:\n",
    "            C[i,k] = C[i,k-1] + p[i,j]\n",
    "        else:\n",
    "            C[i,k] = max(C[i,k-1], C[i-1,k]) + p[i,j]\n",
    "\n",
    "# C to dataframe {(1, 1): 6,  (1, 2): 8,  (1, 3): 14,... } where (i,j) = C[i,j] (i=machine, j=job)\n",
    "C_df = pd.DataFrame(C.values(), index=pd.MultiIndex.from_tuples(C.keys())).unstack()\n",
    "# Columns are sorted_jobs_names (in this order)\n",
    "C_df.columns = sorted_jobs_names\n",
    "C_max = max(C.values())\n",
    "print('C_max:', C_max)\n",
    "\n",
    "display(C_df)"
   ]
  },
  {
   "cell_type": "code",
   "execution_count": 6,
   "metadata": {},
   "outputs": [
    {
     "name": "stdout",
     "output_type": "stream",
     "text": [
      "Number of solutions: {1: 1, 2: 2, 3: 6, 4: 24, 5: 120, 6: 720, 7: 5040, 8: 40320, 9: 362880}\n"
     ]
    }
   ],
   "source": [
    "# Possible orders depending on the number of orders is N!\n",
    "import math\n",
    "\n",
    "number_solutions = {}\n",
    "for n in range(1,10):\n",
    "    number_solutions[n] = math.factorial(n)\n",
    "\n",
    "print('Number of solutions:', number_solutions)"
   ]
  }
 ],
 "metadata": {
  "kernelspec": {
   "display_name": "Python 3",
   "language": "python",
   "name": "python3"
  },
  "language_info": {
   "codemirror_mode": {
    "name": "ipython",
    "version": 3
   },
   "file_extension": ".py",
   "mimetype": "text/x-python",
   "name": "python",
   "nbconvert_exporter": "python",
   "pygments_lexer": "ipython3",
   "version": "3.10.11"
  }
 },
 "nbformat": 4,
 "nbformat_minor": 2
}
