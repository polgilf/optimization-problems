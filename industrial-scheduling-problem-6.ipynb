{
 "cells": [
  {
   "cell_type": "code",
   "execution_count": 26,
   "metadata": {},
   "outputs": [
    {
     "name": "stdout",
     "output_type": "stream",
     "text": [
      "Objective value:  37.0\n",
      "{1: 'B', 2: 'D', 3: 'C'}\n"
     ]
    }
   ],
   "source": [
    "from pulp import *\n",
    "\n",
    "proces_time = {'A1':{'A':6,'B':2,'C':6,'D': 4,'E':5},\n",
    "               'A2':{'A':10,'B':8,'C':4,'D':2,'E':3},\n",
    "               'A3':{'A':4,'B':3,'C':5,'D':7,'E':4}}\n",
    "\n",
    "# \n",
    "N = len(proces_time.keys()) \n",
    "M = len(proces_time['A1'].keys())\n",
    "\n",
    "# convert data to dictionary {(i,k): value}   (i=job, k=machine)\n",
    "p = {(i+1,j+1): proces_time['A'+str(i+1)][chr(j+65)] for i in range(N) for j in range(M)}\n",
    "\n",
    "jobs = range(1,N+1)\n",
    "machines = range(1,M+1)\n",
    "\n",
    "prob = LpProblem(\"jobshop\", LpMinimize)\n",
    "\n",
    "# Variables\n",
    "x = LpVariable.dicts(\"pos\", ((i,k) for i in range(N+1) for k in range(N+1)), cat='Binary')\n",
    "s = LpVariable.dicts(\"time\", ((k,j) for k in range(N+1) for j in range(M+1)), lowBound=0)\n",
    "\n",
    "# One job is scheduled only once\n",
    "for i in jobs: \n",
    "    prob += lpSum(x[(i,k)] for k in jobs) == 1\n",
    "\n",
    "# Each possible order is used only once\n",
    "for k in jobs: \n",
    "    prob += lpSum(x[(i,k)] for i in jobs) == 1\n",
    "\n",
    "# Initial conditions\n",
    "for j in machines:\n",
    "    prob += s[0,j] == 0  # Dummy job 0 finishes at time 0\n",
    "\n",
    "for k in jobs:\n",
    "    prob += s[k,0] == 0  # Dummy machine 0 has zero processing time\n",
    "\n",
    "# First machine (A1) timing constraints\n",
    "for k in range(1, N+1):\n",
    "    prob += s[k,1] == s[k-1,1] + lpSum(x[(i,k)] * p[(i,1)] for i in jobs)\n",
    "\n",
    "# Second machine (A2) timing constraints (take into acount the maximum betwen the previous machine of the same job and the next machine of the previous job)\n",
    "for j in range(2, M+1):\n",
    "    prob += s[k,j] >= s[k,j-1] + lpSum(x[(i,k)] * p[(i,j)] for i in jobs)\n",
    "    prob += s[k,j] >= s[k-1,j] + lpSum(x[(i,k)] * p[(i,j)] for i in jobs)\n",
    "\n",
    "# Objective: Minimize makespan\n",
    "prob += s[N,M]\n",
    "\n",
    "# Solve the problem\n",
    "prob.solve(PULP_CBC_CMD(msg=False))\n",
    "\n",
    "# Print objective function value\n",
    "print(\"Objective value: \", value(prob.objective))\n",
    "\n",
    "'''\n",
    "# Print the results\n",
    "for v in prob.variables():\n",
    "    print(v.name, \"=\", v.varValue)\n",
    "'''\n",
    "# Decode to original machine names and job names\n",
    "solution = {i: chr(j+65) for (i,j), v in x.items() if v.varValue == 1 and i > 0 and j > 0}\n",
    "print(solution)\n",
    "\n"
   ]
  }
 ],
 "metadata": {
  "kernelspec": {
   "display_name": "Python 3",
   "language": "python",
   "name": "python3"
  },
  "language_info": {
   "codemirror_mode": {
    "name": "ipython",
    "version": 3
   },
   "file_extension": ".py",
   "mimetype": "text/x-python",
   "name": "python",
   "nbconvert_exporter": "python",
   "pygments_lexer": "ipython3",
   "version": "3.12.6"
  }
 },
 "nbformat": 4,
 "nbformat_minor": 2
}
