{
 "cells": [
  {
   "cell_type": "code",
   "execution_count": 4,
   "metadata": {},
   "outputs": [
    {
     "name": "stdout",
     "output_type": "stream",
     "text": [
      "####################################\n",
      "Objective value:  35.0\n",
      "#----------------------------------#\n",
      "Raw solutions:\n",
      "s_(1,_1) = 2.0\n",
      "s_(1,_2) = 10.0\n",
      "s_(1,_3) = 13.0\n",
      "s_(2,_1) = 6.0\n",
      "s_(2,_2) = 12.0\n",
      "s_(2,_3) = 20.0\n",
      "s_(3,_1) = 12.0\n",
      "s_(3,_2) = 22.0\n",
      "s_(3,_3) = 26.0\n",
      "s_(4,_1) = 18.0\n",
      "s_(4,_2) = 26.0\n",
      "s_(4,_3) = 31.0\n",
      "s_(5,_1) = 23.0\n",
      "s_(5,_2) = 29.0\n",
      "s_(5,_3) = 35.0\n",
      "x_(1,_3) = 1.0\n",
      "x_(2,_1) = 1.0\n",
      "x_(3,_4) = 1.0\n",
      "x_(4,_2) = 1.0\n",
      "x_(5,_5) = 1.0\n",
      "#----------------------------------#\n",
      "Processed solutions:\n",
      "Order of jobs: {1: 2, 2: 4, 3: 1, 4: 3, 5: 5}\n",
      "End times: {(1, 1): 2.0, (1, 2): 10.0, (1, 3): 13.0, (2, 1): 6.0, (2, 2): 12.0, (2, 3): 20.0, (3, 1): 12.0, (3, 2): 22.0, (3, 3): 26.0, (4, 1): 18.0, (4, 2): 26.0, (4, 3): 31.0, (5, 1): 23.0, (5, 2): 29.0, (5, 3): 35.0}\n",
      "#----------------------------------#\n",
      "Decoded solutions:\n",
      "Order of jobs: {1: 'TTL', 2: 'P', 3: 'TTC', 4: 'C', 5: 'MM'}\n",
      "End times: {(1, 'A1'): 2.0, (1, 'A2'): 10.0, (1, 'A3'): 13.0, (2, 'A1'): 6.0, (2, 'A2'): 12.0, (2, 'A3'): 20.0, (3, 'A1'): 12.0, (3, 'A2'): 22.0, (3, 'A3'): 26.0, (4, 'A1'): 18.0, (4, 'A2'): 26.0, (4, 'A3'): 31.0, (5, 'A1'): 23.0, (5, 'A2'): 29.0, (5, 'A3'): 35.0}\n",
      "Detailed schedule: {(1, 'A1', 'TTL'): 2.0, (1, 'A2', 'TTL'): 10.0, (1, 'A3', 'TTL'): 13.0, (2, 'A1', 'P'): 6.0, (2, 'A2', 'P'): 12.0, (2, 'A3', 'P'): 20.0, (3, 'A1', 'TTC'): 12.0, (3, 'A2', 'TTC'): 22.0, (3, 'A3', 'TTC'): 26.0, (4, 'A1', 'C'): 18.0, (4, 'A2', 'C'): 26.0, (4, 'A3', 'C'): 31.0, (5, 'A1', 'MM'): 23.0, (5, 'A2', 'MM'): 29.0, (5, 'A3', 'MM'): 35.0}\n",
      "#----------------------------------#\n",
      "Solution Status: Optimal\n"
     ]
    }
   ],
   "source": [
    "from pulp import *\n",
    "\n",
    "proces_time = {'A1':{'TTC':6,'TTL':2,'C':6,'P': 4,'MM':5},\n",
    "               'A2':{'TTC':10,'TTL':8,'C':4,'P':2,'MM':3},\n",
    "               'A3':{'TTC':4,'TTL':3,'C':5,'P':7,'MM':4}}\n",
    "\n",
    "# \n",
    "M = len(proces_time.keys()) # M = 3\n",
    "N = len(proces_time['A1'].keys()) # N = 5\n",
    "\n",
    "machine_names = [key for key in proces_time.keys()] # ['A1', 'A2', 'A3']\n",
    "job_names = [key for key in proces_time['A1'].keys()] # ['TTC', 'TTL', 'C', 'P', 'MM']\n",
    "\n",
    "# Ranges where indexes are defined\n",
    "jobs = range(1,N+1)\n",
    "machines = range(1,M+1)\n",
    "\n",
    "# convert data to dictionary {(i,k): value}   (i=job, k=machine)\n",
    "p = {(i,k): proces_time[machine_names[k-1]][job_names[i-1]] for i in jobs for k in machines}\n",
    "\n",
    "# Create the model\n",
    "prob = LpProblem(\"flowshop\", LpMinimize)\n",
    "\n",
    "# Variables\n",
    "x = LpVariable.dicts(\"x\", ((i,k) for i in range(N+1) for k in range(N+1)), cat='Binary')\n",
    "s = LpVariable.dicts(\"s\", ((k,j) for k in range(N+1) for j in range(M+1)), lowBound=0)\n",
    "\n",
    "# Constraints\n",
    "# One job is scheduled only once\n",
    "for k in jobs: \n",
    "    prob += lpSum(x[(i,k)] for i in jobs) == 1\n",
    "\n",
    "# Each possible order is used only once\n",
    "for i in jobs: \n",
    "    prob += lpSum(x[(i,k)] for k in jobs) == 1\n",
    "\n",
    "# Initial conditions\n",
    "for j in machines:\n",
    "    prob += s[0,j] == 0  # Dummy job 0 finishes at time 0\n",
    "\n",
    "for k in jobs:\n",
    "    prob += s[k,0] == 0  # Dummy machine 0 has zero processing time\n",
    "\n",
    "# Machine timing constraints (take into acount the maximum betwen the previous machine of the same job and the next machine of the previous job)\n",
    "for j in range(1, M+1):\n",
    "    for k in jobs:\n",
    "        prob += s[k,j] >= s[k,j-1] + lpSum(x[(i,k)] * p[(i,j)] for i in jobs)\n",
    "        prob += s[k,j] >= s[k-1,j] + lpSum(x[(i,k)] * p[(i,j)] for i in jobs)\n",
    "\n",
    "# Objective: Minimize makespan\n",
    "prob += s[N,M]\n",
    "\n",
    "# Solve the problem\n",
    "prob.solve(PULP_CBC_CMD(msg=True))\n",
    "\n",
    "# Store solution in a dictionary sch_dict = {(job, machine): start_time} and order_dict = {order: job} = {1: jobname, 2: jobname, ...}\n",
    "sch_dict = {}\n",
    "order_dict = {}\n",
    "x_names_ranges = {v: k for k, v in x.items()}\n",
    "s_names_ranges = {v: k for k, v in s.items()}\n",
    "\n",
    "for v in prob.variables():\n",
    "    if v.varValue > 0:\n",
    "        value = v.varValue\n",
    "        if v.name[0] == 'x':\n",
    "            (i, k) = x_names_ranges[v]\n",
    "            order_dict[k] = i\n",
    "        elif v.name[0] == 's':\n",
    "            (k, j) = s_names_ranges[v]\n",
    "            sch_dict[(k, j)] = value\n",
    "order_dict = dict(sorted(order_dict.items()))\n",
    "\n",
    "# Decode the results to match original names\n",
    "# result_order: {order: job} = {1: jobname, 2: jobname, ...} as in job_names (['TTC', 'TTL', 'C', 'P', 'MM'])\n",
    "result_order = {k: job_names[v-1] for k, v in order_dict.items()}\n",
    "\n",
    "# results_endtime: {(k, machinename) : end_time_value } as in machine_names (['A1', 'A2', 'A3'])\n",
    "results_endtime = {(k, machine_names[j-1]): v for (k, j), v in sch_dict.items()}\n",
    "\n",
    "# New dictionary (order, machinename, jobname) : end_time_value, sorted by order and then by machine\n",
    "# To do that, start from results_endtime and modify the keys (order, machinename) to add the jobname from result_order[(order, jobname)]\n",
    "results_detailed = {}\n",
    "for (k, j), v in sch_dict.items():\n",
    "    results_detailed[(k, machine_names[j-1], result_order[k])] = v\n",
    "\n",
    "# Print objective function value\n",
    "print('####################################')\n",
    "print(\"Objective value: \", prob.objective.value())\n",
    "print('#----------------------------------#')\n",
    "# Print the results\n",
    "print('Raw solutions:')\n",
    "for v in prob.variables():\n",
    "    if v.varValue > 0:\n",
    "        print(v.name, \"=\", v.varValue)\n",
    "print('#----------------------------------#')\n",
    "print('Processed solutions:')\n",
    "print('Order of jobs:', order_dict)\n",
    "print('End times:', sch_dict)\n",
    "print('#----------------------------------#')\n",
    "print('Decoded solutions:')\n",
    "print('Order of jobs:', result_order)\n",
    "print('End times:', results_endtime)\n",
    "print('Detailed schedule:', results_detailed)\n",
    "print('#----------------------------------#')\n",
    "print(f\"Solution Status: {LpStatus[prob.status]}\")\n",
    "\n"
   ]
  },
  {
   "cell_type": "code",
   "execution_count": 5,
   "metadata": {},
   "outputs": [
    {
     "name": "stdout",
     "output_type": "stream",
     "text": [
      "['GLPK_CMD', 'CPLEX_CMD', 'CPLEX_PY', 'PULP_CBC_CMD']\n"
     ]
    }
   ],
   "source": [
    "from glpk import glpk, GLPK\n",
    "\n",
    "solver_list = listSolvers(onlyAvailable=True)\n",
    "print(solver_list)\n"
   ]
  },
  {
   "cell_type": "code",
   "execution_count": 2,
   "metadata": {},
   "outputs": [
    {
     "name": "stdout",
     "output_type": "stream",
     "text": [
      "Attempting to solve with GLPK...\n"
     ]
    }
   ],
   "source": [
    "\n",
    "# Try different solvers glpk pyscipopt highspy\n",
    "try:\n",
    "    # Try GLPK first\n",
    "    print(\"Attempting to solve with GLPK...\")\n",
    "    solver = GLPK_CMD(msg=True, options=['--pcost'])\n",
    "    prob.solve(solver)\n",
    "except:\n",
    "    try:\n",
    "        # Try SCIP if GLPK fails\n",
    "        print(\"\\nAttempting to solve with SCIP...\")\n",
    "        solver = SCIP_CMD(msg=True)\n",
    "        prob.solve(solver)\n",
    "    except:\n",
    "        try:\n",
    "            # Try HiGHS if SCIP fails\n",
    "            print(\"\\nAttempting to solve with HiGHS...\")\n",
    "            solver = HiGHS_CMD(msg=True)\n",
    "            prob.solve(solver)\n",
    "        except:\n",
    "            # Fall back to CBC\n",
    "            print(\"\\nFalling back to CBC...\")\n",
    "            solver = PULP_CBC_CMD(msg=True)\n",
    "            prob.solve(solver)"
   ]
  },
  {
   "cell_type": "code",
   "execution_count": 3,
   "metadata": {},
   "outputs": [
    {
     "ename": "NameError",
     "evalue": "name 'listSolvers' is not defined",
     "output_type": "error",
     "traceback": [
      "\u001b[1;31m---------------------------------------------------------------------------\u001b[0m",
      "\u001b[1;31mNameError\u001b[0m                                 Traceback (most recent call last)",
      "Cell \u001b[1;32mIn[3], line 3\u001b[0m\n\u001b[0;32m      1\u001b[0m \u001b[38;5;28;01mfrom\u001b[39;00m \u001b[38;5;21;01mglpk\u001b[39;00m \u001b[38;5;28;01mimport\u001b[39;00m glpk, GLPK\n\u001b[1;32m----> 3\u001b[0m solver_list \u001b[38;5;241m=\u001b[39m \u001b[43mlistSolvers\u001b[49m(onlyAvailable\u001b[38;5;241m=\u001b[39m\u001b[38;5;28;01mTrue\u001b[39;00m)\n\u001b[0;32m      4\u001b[0m \u001b[38;5;28mprint\u001b[39m(solver_list)\n\u001b[0;32m      6\u001b[0m solver \u001b[38;5;241m=\u001b[39m GLPK_CMD(msg\u001b[38;5;241m=\u001b[39m\u001b[38;5;28;01mTrue\u001b[39;00m, options\u001b[38;5;241m=\u001b[39m[\u001b[38;5;124m'\u001b[39m\u001b[38;5;124m--pcost\u001b[39m\u001b[38;5;124m'\u001b[39m, \u001b[38;5;124m'\u001b[39m\u001b[38;5;124m--simplex\u001b[39m\u001b[38;5;124m'\u001b[39m])\n",
      "\u001b[1;31mNameError\u001b[0m: name 'listSolvers' is not defined"
     ]
    }
   ],
   "source": [
    "from glpk import glpk, GLPK\n",
    "\n",
    "solver_list = listSolvers(onlyAvailable=True)\n",
    "print(solver_list)\n",
    "\n",
    "solver = GLPK_CMD(msg=True, options=['--pcost', '--simplex'])\n",
    "prob.solve(solver)\n",
    "# ['GLPK_CMD', 'CPLEX_CMD', 'CPLEX_PY', 'GUROBI', 'GUROBI_CMD', 'PULP_CBC_CMD', 'COIN_CMD']\n",
    "\n",
    "print('\\n####################################\\n')\n",
    "print(\"Objective value: \", prob.objective.value())\n",
    "print('#----------------------------------#')\n",
    "print('Order of jobs:', result_order)\n",
    "print('#----------------------------------#')\n",
    "print('End times:', results_endtime)\n",
    "print('#----------------------------------#')\n",
    "print('Detailed schedule:', results_detailed)\n",
    "print('#----------------------------------#')\n",
    "print(f\"Solution Status: {LpStatus[prob.status]}\")\n",
    "print('\\n####################################\\n')"
   ]
  },
  {
   "cell_type": "code",
   "execution_count": null,
   "metadata": {},
   "outputs": [],
   "source": [
    "# PRINT\n",
    "# SAVE SAME PRINTED INFO TO FILE report_file_name\n",
    "with open(report_file_name, 'w') as f:\n",
    "    f.write('\\n#################################\\n')\n",
    "    f.write('\\n###-------- Results --------###\\n')\n",
    "    f.write('\\n#################################\\n')\n",
    "    print('\\n#----------------------------------#\\n')\n",
    "    f.write('Solver: '+report['solver']+'\\n')\n",
    "    print('\\n#----------------------------------#\\n')\n",
    "    f.write('\\nLog:\\n')\n",
    "    print('\\n#----------------------------------#\\n')\n",
    "    f.write(log)\n",
    "    print('\\n#----------------------------------#\\n')\n",
    "    f.write('\\nResults:\\n')\n",
    "    print('\\n#----------------------------------#\\n')\n",
    "    f.write(df_order.to_string())\n",
    "    f.write(df_detailed.to_string())\n",
    "    print('\\n#----------------------------------#\\n')\n",
    "    f.write('\\nReport:\\n')\n",
    "    print('\\n#----------------------------------#\\n')\n",
    "    for key, values in report.items():\n",
    "        f.write(key+': '+str(values)+'\\n')\n",
    "    print('\\n#----------------------------------#\\n')\n",
    "    print('\\n#----------------------------------#\\n')\n",
    "    f.close()"
   ]
  },
  {
   "cell_type": "code",
   "execution_count": 1,
   "metadata": {},
   "outputs": [
    {
     "ename": "NameError",
     "evalue": "name 'glpsol' is not defined",
     "output_type": "error",
     "traceback": [
      "\u001b[1;31m---------------------------------------------------------------------------\u001b[0m",
      "\u001b[1;31mNameError\u001b[0m                                 Traceback (most recent call last)",
      "Cell \u001b[1;32mIn[1], line 1\u001b[0m\n\u001b[1;32m----> 1\u001b[0m \u001b[43mglpsol\u001b[49m \u001b[38;5;241m-\u001b[39m\u001b[38;5;241m-\u001b[39mhelp\n",
      "\u001b[1;31mNameError\u001b[0m: name 'glpsol' is not defined"
     ]
    }
   ],
   "source": [
    "glpsol --help"
   ]
  }
 ],
 "metadata": {
  "kernelspec": {
   "display_name": "Python 3",
   "language": "python",
   "name": "python3"
  },
  "language_info": {
   "codemirror_mode": {
    "name": "ipython",
    "version": 3
   },
   "file_extension": ".py",
   "mimetype": "text/x-python",
   "name": "python",
   "nbconvert_exporter": "python",
   "pygments_lexer": "ipython3",
   "version": "3.10.11"
  }
 },
 "nbformat": 4,
 "nbformat_minor": 2
}
