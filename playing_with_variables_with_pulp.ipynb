{
 "cells": [
  {
   "cell_type": "code",
   "execution_count": 5,
   "metadata": {},
   "outputs": [],
   "source": [
    "from pulp import *\n",
    "\n",
    "proces_time = {'A1':{'TTC':6,'TTL':2,'C':6,'P': 4,'MM':5},\n",
    "               'A2':{'TTC':10,'TTL':8,'C':4,'P':2,'MM':3},\n",
    "               'A3':{'TTC':4,'TTL':3,'C':5,'P':7,'MM':4}}\n",
    "\n",
    "# \n",
    "M = len(proces_time.keys()) # M = 3\n",
    "N = len(proces_time['A1'].keys()) # N = 5\n",
    "\n",
    "machine_names = [key for key in proces_time.keys()] # ['A1', 'A2', 'A3']\n",
    "job_names = [key for key in proces_time['A1'].keys()] # ['TTC', 'TTL', 'C', 'P', 'MM']\n",
    "\n",
    "# Ranges where indexes are defined\n",
    "jobs = range(1,N+1)\n",
    "machines = range(1,M+1)\n",
    "\n",
    "# convert data to dictionary {(i,k): value}   (i=job, k=machine)\n",
    "p = {(i,k): proces_time[machine_names[k-1]][job_names[i-1]] for i in jobs for k in machines}\n",
    "\n",
    "# Create the model\n",
    "prob = LpProblem(\"flowshop\", LpMinimize)\n",
    "\n",
    "# Variables\n",
    "x = LpVariable.dicts(\"x\", ((i,k) for i in range(N+1) for k in range(N+1)), cat='Binary')\n",
    "s = LpVariable.dicts(\"s\", ((k,j) for k in range(N+1) for j in range(M+1)), lowBound=0)\n",
    "makespan = LpVariable(\"mksp\", lowBound=0)\n",
    "\n",
    "# Constraints\n",
    "# One job is scheduled only once\n",
    "for k in jobs: \n",
    "    prob += lpSum(x[(i,k)] for i in jobs) == 1\n",
    "\n",
    "# Each possible order is used only once\n",
    "for i in jobs: \n",
    "    prob += lpSum(x[(i,k)] for k in jobs) == 1\n",
    "\n",
    "# Initial conditions\n",
    "for j in machines:\n",
    "    prob += s[0,j] == 0  # Dummy job 0 finishes at time 0\n",
    "\n",
    "for k in jobs:\n",
    "    prob += s[k,0] == 0  # Dummy machine 0 has zero processing time\n",
    "\n",
    "# Machine timing constraints (take into acount the maximum betwen the previous machine of the same job and the next machine of the previous job)\n",
    "for j in range(1, M+1):\n",
    "    for k in jobs:\n",
    "        prob += s[k,j] >= s[k,j-1] + lpSum(x[(i,k)] * p[(i,j)] for i in jobs)\n",
    "        prob += s[k,j] >= s[k-1,j] + lpSum(x[(i,k)] * p[(i,j)] for i in jobs)\n",
    "# Define makespan\n",
    "prob += makespan == s[N,M]\n",
    "# Objective: Minimize makespan\n",
    "prob += makespan\n",
    "\n",
    "# Solve the problem\n",
    "prob.solve(PULP_CBC_CMD(msg=True))\n",
    "\n",
    "# Store solution in a dictionary sch_dict = {(job, machine): start_time} and order_dict = {order: job} = {1: jobname, 2: jobname, ...}\n",
    "sch_dict = {}\n",
    "order_dict = {}\n",
    "x_names_ranges = {v: k for k, v in x.items()}\n",
    "s_names_ranges = {v: k for k, v in s.items()}"
   ]
  },
  {
   "cell_type": "code",
   "execution_count": 6,
   "metadata": {},
   "outputs": [
    {
     "data": {
      "text/plain": [
       "35.0"
      ]
     },
     "execution_count": 6,
     "metadata": {},
     "output_type": "execute_result"
    }
   ],
   "source": [
    "makespan.varValue"
   ]
  },
  {
   "cell_type": "code",
   "execution_count": 7,
   "metadata": {},
   "outputs": [
    {
     "data": {
      "text/plain": [
       "'mksp'"
      ]
     },
     "execution_count": 7,
     "metadata": {},
     "output_type": "execute_result"
    }
   ],
   "source": [
    "makespan.name"
   ]
  },
  {
   "cell_type": "code",
   "execution_count": 8,
   "metadata": {},
   "outputs": [
    {
     "data": {
      "text/plain": [
       "35.0"
      ]
     },
     "execution_count": 8,
     "metadata": {},
     "output_type": "execute_result"
    }
   ],
   "source": [
    "makespan.value()"
   ]
  },
  {
   "cell_type": "code",
   "execution_count": 9,
   "metadata": {},
   "outputs": [
    {
     "data": {
      "text/plain": [
       "dict_items([((0, 0), x_(0,_0)), ((0, 1), x_(0,_1)), ((0, 2), x_(0,_2)), ((0, 3), x_(0,_3)), ((0, 4), x_(0,_4)), ((0, 5), x_(0,_5)), ((1, 0), x_(1,_0)), ((1, 1), x_(1,_1)), ((1, 2), x_(1,_2)), ((1, 3), x_(1,_3)), ((1, 4), x_(1,_4)), ((1, 5), x_(1,_5)), ((2, 0), x_(2,_0)), ((2, 1), x_(2,_1)), ((2, 2), x_(2,_2)), ((2, 3), x_(2,_3)), ((2, 4), x_(2,_4)), ((2, 5), x_(2,_5)), ((3, 0), x_(3,_0)), ((3, 1), x_(3,_1)), ((3, 2), x_(3,_2)), ((3, 3), x_(3,_3)), ((3, 4), x_(3,_4)), ((3, 5), x_(3,_5)), ((4, 0), x_(4,_0)), ((4, 1), x_(4,_1)), ((4, 2), x_(4,_2)), ((4, 3), x_(4,_3)), ((4, 4), x_(4,_4)), ((4, 5), x_(4,_5)), ((5, 0), x_(5,_0)), ((5, 1), x_(5,_1)), ((5, 2), x_(5,_2)), ((5, 3), x_(5,_3)), ((5, 4), x_(5,_4)), ((5, 5), x_(5,_5))])"
      ]
     },
     "execution_count": 9,
     "metadata": {},
     "output_type": "execute_result"
    }
   ],
   "source": [
    "x.items()"
   ]
  },
  {
   "cell_type": "code",
   "execution_count": 11,
   "metadata": {},
   "outputs": [
    {
     "name": "stdout",
     "output_type": "stream",
     "text": [
      "\n",
      "PRINTING keys of LpVariable.dicts (keys of the dict x)\n",
      "\n",
      "dict_keys([(0, 0), (0, 1), (0, 2), (0, 3), (0, 4), (0, 5), (1, 0), (1, 1), (1, 2), (1, 3), (1, 4), (1, 5), (2, 0), (2, 1), (2, 2), (2, 3), (2, 4), (2, 5), (3, 0), (3, 1), (3, 2), (3, 3), (3, 4), (3, 5), (4, 0), (4, 1), (4, 2), (4, 3), (4, 4), (4, 5), (5, 0), (5, 1), (5, 2), (5, 3), (5, 4), (5, 5)])\n",
      "\n",
      "PRINTING name and value of each x (each value of the dict)\n",
      "\n",
      "x_(1,_3) = 1.0\n",
      "x_(1,_3) = 1.0\n",
      "x_(2,_1) = 1.0\n",
      "x_(2,_1) = 1.0\n",
      "x_(3,_4) = 1.0\n",
      "x_(3,_4) = 1.0\n",
      "x_(4,_2) = 1.0\n",
      "x_(4,_2) = 1.0\n",
      "x_(5,_5) = 1.0\n",
      "x_(5,_5) = 1.0\n"
     ]
    }
   ],
   "source": [
    "x_names = x.keys()\n",
    "\n",
    "print('\\nPRINTING keys of LpVariable.dicts (keys of the dict x)\\n')\n",
    "print(x_names)\n",
    "print('\\nPRINTING name and value of each x (each value of the dict)\\n')\n",
    "for one_x in x_names:\n",
    "    var = x[one_x]\n",
    "    if var.varValue is not None and var.varValue > 0:\n",
    "        print(var.name,'=', var.varValue)\n",
    "        # you can also use var.value() instead of var.varValue\n",
    "        print(var.name,'=', var.value())  "
   ]
  }
 ],
 "metadata": {
  "kernelspec": {
   "display_name": "Python 3",
   "language": "python",
   "name": "python3"
  },
  "language_info": {
   "codemirror_mode": {
    "name": "ipython",
    "version": 3
   },
   "file_extension": ".py",
   "mimetype": "text/x-python",
   "name": "python",
   "nbconvert_exporter": "python",
   "pygments_lexer": "ipython3",
   "version": "3.12.2"
  }
 },
 "nbformat": 4,
 "nbformat_minor": 2
}
